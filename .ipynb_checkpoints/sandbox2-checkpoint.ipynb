{
 "cells": [
  {
   "cell_type": "code",
   "execution_count": 1,
   "metadata": {},
   "outputs": [],
   "source": [
    "import tensorflow as tf\n",
    "import numpy as np\n",
    "import os\n",
    "import glob\n",
    "from tensorflow.keras import datasets, layers, models\n",
    "from tensorflow.keras.callbacks import LearningRateScheduler\n",
    "from tensorflow.keras.preprocessing.image import ImageDataGenerator\n",
    "from PIL import Image\n",
    "from PIL import Image, ImageOps\n",
    "from tensorflow.keras.layers import LeakyReLU\n",
    "import matplotlib.pyplot as plt\n",
    "from rnnconv import RnnConv"
   ]
  },
  {
   "cell_type": "code",
   "execution_count": 2,
   "metadata": {},
   "outputs": [
    {
     "name": "stdout",
     "output_type": "stream",
     "text": [
      "[PhysicalDevice(name='/physical_device:GPU:0', device_type='GPU')]\n"
     ]
    }
   ],
   "source": [
    "print(tf.config.list_physical_devices(\"GPU\"))\n",
    "iterations = 1"
   ]
  },
  {
   "cell_type": "code",
   "execution_count": 3,
   "metadata": {},
   "outputs": [],
   "source": [
    "(train_images, train_labels), (test_images, test_labels) = datasets.cifar10.load_data()\n",
    "(train_images2, train_labels2), (test_images2, test_labels2) = datasets.cifar100.load_data()\n",
    "\n",
    "# Normalize pixel values to be between 0 and 1\n",
    "train_images, test_images = train_images / 255.0, test_images / 255.0\n",
    "train_images2, test_iamges2 = train_images2 / 255.0, test_images / 255.0\n",
    "\n",
    "train_images = np.concatenate((train_images, train_images2) ,axis=0)\n",
    "test_images = np.concatenate((test_images, test_images2), axis=0)\n",
    "\n",
    "train_labels = np.concatenate((train_labels, train_labels2), axis=0)\n",
    "test_labels = np.concatenate((test_labels, test_labels2), axis=0)"
   ]
  },
  {
   "cell_type": "code",
   "execution_count": 4,
   "metadata": {},
   "outputs": [],
   "source": [
    "with open('D:\\\\\\data\\\\data.npy', 'rb') as f:\n",
    "    data = (np.load(f) / 255.0).reshape((99999,32,32,3))"
   ]
  },
  {
   "cell_type": "markdown",
   "metadata": {},
   "source": [
    "with open('D:\\\\\\data\\\\data2.npy', 'rb') as f:\n",
    "    data2 = (np.load(f) / 255.0)\n",
    "    num_images = data2.shape[0] // (32*32*3)\n",
    "    \n",
    "    data2 = np.rot90(data2.reshape((num_images,32,32,3)), axes=[1,2])"
   ]
  },
  {
   "cell_type": "markdown",
   "metadata": {},
   "source": [
    "train_images = np.concatenate((train_images, data), axis=0)\n",
    "train_images = np.concatenate((train_images, data2), axis=0)\n",
    "\n",
    "del data2\n",
    "del data"
   ]
  },
  {
   "cell_type": "markdown",
   "metadata": {},
   "source": [
    "rotated_images = np.rot90(train_images, axes=[1,2])\n",
    "\n",
    "train_images = np.concatenate((train_images, rotated_images), axis=0)\n",
    "del rotated_images"
   ]
  },
  {
   "cell_type": "code",
   "execution_count": 5,
   "metadata": {},
   "outputs": [
    {
     "name": "stdout",
     "output_type": "stream",
     "text": [
      "There are 100000 images\n"
     ]
    }
   ],
   "source": [
    "print(\"There are {} images\".format(train_images.shape[0]))"
   ]
  },
  {
   "cell_type": "code",
   "execution_count": 6,
   "metadata": {},
   "outputs": [],
   "source": [
    "model = tf.keras.Sequential() \n",
    "relu_amount = 0.01\n",
    "\n",
    "for i in range(iterations):\n",
    "\n",
    "    model.add(layers.Conv2D(filters=64, kernel_size=3, input_shape=(32, 32, 3), strides = (2, 2), padding='same', data_format='channels_last'))\n",
    "    model.add(LeakyReLU(alpha=relu_amount))\n",
    "\n",
    "    model.add(layers.Lambda(lambda x: tf.expand_dims(x,axis=1)))\n",
    "    model.add(layers.ConvLSTM2D(filters=256, kernel_size=3, strides=(2, 2),   padding='same', data_format='channels_last'))\n",
    "    model.add(LeakyReLU(alpha=relu_amount))\n",
    "    \n",
    "    model.add(layers.Lambda(lambda x: tf.expand_dims(x,axis=1)))\n",
    "    model.add(layers.ConvLSTM2D(filters=512, kernel_size=3, strides=(2, 2),   padding='same', data_format='channels_last'))\n",
    "    model.add(LeakyReLU(alpha=relu_amount))\n",
    "    \n",
    "    model.add(layers.Lambda(lambda x: tf.expand_dims(x,axis=1)))\n",
    "    model.add(layers.ConvLSTM2D(filters=512, kernel_size=3, strides=(2, 2),   padding='same', data_format='channels_last'))\n",
    "    model.add(LeakyReLU(alpha=relu_amount))\n",
    "\n",
    "    model.add(layers.Conv2D(filters=32, kernel_size=1,  strides = (1,1), padding='same', data_format='channels_last'))\n",
    "    model.add(LeakyReLU(alpha=relu_amount))\n",
    "\n",
    "    model.add(layers.Conv2D(filters=512, kernel_size=1,  strides = (1,1), padding='same', data_format='channels_last'))\n",
    "    model.add(LeakyReLU(alpha=relu_amount))\n",
    "    \n",
    "    model.add(layers.Lambda(lambda x: tf.expand_dims(x,axis=1)))\n",
    "    model.add(layers.ConvLSTM2D(filters=512, kernel_size=2, strides=(1, 1), padding='same', data_format='channels_last'))\n",
    "    model.add(LeakyReLU(alpha=relu_amount))\n",
    "    model.add(layers.Lambda(lambda x:tf.nn.depth_to_space(x,2,data_format='NHWC')))\n",
    "\n",
    "    model.add(layers.Lambda(lambda x: tf.expand_dims(x,axis=1)))\n",
    "    model.add(layers.ConvLSTM2D(filters=512, kernel_size=3, strides=(1, 1), padding='same', data_format='channels_last'))\n",
    "    model.add(LeakyReLU(alpha=relu_amount))\n",
    "    model.add(layers.Lambda(lambda x:tf.nn.depth_to_space(x,2,data_format='NHWC')))\n",
    "    \n",
    "    \n",
    "    model.add(layers.Lambda(lambda x: tf.expand_dims(x,axis=1)))\n",
    "    model.add(layers.ConvLSTM2D(filters=256, kernel_size=3, strides=(1, 1), padding='same', data_format='channels_last'))\n",
    "    model.add(LeakyReLU(alpha=relu_amount))\n",
    "    model.add(layers.Lambda(lambda x:tf.nn.depth_to_space(x,2,data_format='NHWC')))\n",
    "\n",
    "    model.add(layers.Lambda(lambda x: tf.expand_dims(x,axis=1)))\n",
    "    model.add(layers.ConvLSTM2D(filters=128, kernel_size=3, strides=(1, 1), padding='same', data_format='channels_last'))\n",
    "    model.add(LeakyReLU(alpha=relu_amount))\n",
    "    model.add(layers.Lambda(lambda x:tf.nn.depth_to_space(x,2,data_format='NHWC')))\n",
    "\n",
    "    model.add(layers.Conv2D(filters=3, kernel_size=1, strides = (1,1), padding='same', data_format='channels_last'))\n",
    "    model.add(LeakyReLU(alpha=relu_amount))"
   ]
  },
  {
   "cell_type": "code",
   "execution_count": 7,
   "metadata": {},
   "outputs": [
    {
     "name": "stdout",
     "output_type": "stream",
     "text": [
      "Model: \"sequential\"\n",
      "_________________________________________________________________\n",
      "Layer (type)                 Output Shape              Param #   \n",
      "=================================================================\n",
      "conv2d (Conv2D)              (None, 16, 16, 64)        1792      \n",
      "_________________________________________________________________\n",
      "leaky_re_lu (LeakyReLU)      (None, 16, 16, 64)        0         \n",
      "_________________________________________________________________\n",
      "lambda (Lambda)              (None, 1, 16, 16, 64)     0         \n",
      "_________________________________________________________________\n",
      "conv_lst_m2d (ConvLSTM2D)    (None, 8, 8, 256)         2950144   \n",
      "_________________________________________________________________\n",
      "leaky_re_lu_1 (LeakyReLU)    (None, 8, 8, 256)         0         \n",
      "_________________________________________________________________\n",
      "lambda_1 (Lambda)            (None, 1, 8, 8, 256)      0         \n",
      "_________________________________________________________________\n",
      "conv_lst_m2d_1 (ConvLSTM2D)  (None, 4, 4, 512)         14157824  \n",
      "_________________________________________________________________\n",
      "leaky_re_lu_2 (LeakyReLU)    (None, 4, 4, 512)         0         \n",
      "_________________________________________________________________\n",
      "lambda_2 (Lambda)            (None, 1, 4, 4, 512)      0         \n",
      "_________________________________________________________________\n",
      "conv_lst_m2d_2 (ConvLSTM2D)  (None, 2, 2, 512)         18876416  \n",
      "_________________________________________________________________\n",
      "leaky_re_lu_3 (LeakyReLU)    (None, 2, 2, 512)         0         \n",
      "_________________________________________________________________\n",
      "conv2d_1 (Conv2D)            (None, 2, 2, 32)          16416     \n",
      "_________________________________________________________________\n",
      "leaky_re_lu_4 (LeakyReLU)    (None, 2, 2, 32)          0         \n",
      "_________________________________________________________________\n",
      "conv2d_2 (Conv2D)            (None, 2, 2, 512)         16896     \n",
      "_________________________________________________________________\n",
      "leaky_re_lu_5 (LeakyReLU)    (None, 2, 2, 512)         0         \n",
      "_________________________________________________________________\n",
      "lambda_3 (Lambda)            (None, 1, 2, 2, 512)      0         \n",
      "_________________________________________________________________\n",
      "conv_lst_m2d_3 (ConvLSTM2D)  (None, 2, 2, 512)         8390656   \n",
      "_________________________________________________________________\n",
      "leaky_re_lu_6 (LeakyReLU)    (None, 2, 2, 512)         0         \n",
      "_________________________________________________________________\n",
      "lambda_4 (Lambda)            (None, 4, 4, 128)         0         \n",
      "_________________________________________________________________\n",
      "lambda_5 (Lambda)            (None, 1, 4, 4, 128)      0         \n",
      "_________________________________________________________________\n",
      "conv_lst_m2d_4 (ConvLSTM2D)  (None, 4, 4, 512)         11798528  \n",
      "_________________________________________________________________\n",
      "leaky_re_lu_7 (LeakyReLU)    (None, 4, 4, 512)         0         \n",
      "_________________________________________________________________\n",
      "lambda_6 (Lambda)            (None, 8, 8, 128)         0         \n",
      "_________________________________________________________________\n",
      "lambda_7 (Lambda)            (None, 1, 8, 8, 128)      0         \n",
      "_________________________________________________________________\n",
      "conv_lst_m2d_5 (ConvLSTM2D)  (None, 8, 8, 256)         3539968   \n",
      "_________________________________________________________________\n",
      "leaky_re_lu_8 (LeakyReLU)    (None, 8, 8, 256)         0         \n",
      "_________________________________________________________________\n",
      "lambda_8 (Lambda)            (None, 16, 16, 64)        0         \n",
      "_________________________________________________________________\n",
      "lambda_9 (Lambda)            (None, 1, 16, 16, 64)     0         \n",
      "_________________________________________________________________\n",
      "conv_lst_m2d_6 (ConvLSTM2D)  (None, 16, 16, 128)       885248    \n",
      "_________________________________________________________________\n",
      "leaky_re_lu_9 (LeakyReLU)    (None, 16, 16, 128)       0         \n",
      "_________________________________________________________________\n",
      "lambda_10 (Lambda)           (None, 32, 32, 32)        0         \n",
      "_________________________________________________________________\n",
      "conv2d_3 (Conv2D)            (None, 32, 32, 3)         99        \n",
      "_________________________________________________________________\n",
      "leaky_re_lu_10 (LeakyReLU)   (None, 32, 32, 3)         0         \n",
      "=================================================================\n",
      "Total params: 60,633,987\n",
      "Trainable params: 60,633,987\n",
      "Non-trainable params: 0\n",
      "_________________________________________________________________\n"
     ]
    }
   ],
   "source": [
    "opt = tf.keras.optimizers.Adam(learning_rate=0.001, beta_1=0.9, beta_2=0.9, epsilon=1e-06, amsgrad=True)\n",
    "\n",
    "def SSIMLoss(y_true, y_pred):\n",
    "    return tf.math.square(1 - tf.reduce_mean(tf.image.ssim(y_true, y_pred, 2.0)))\n",
    "\n",
    "model.compile(optimizer=opt, loss=SSIMLoss, metrics=[SSIMLoss])\n",
    "model.summary()"
   ]
  },
  {
   "cell_type": "markdown",
   "metadata": {},
   "source": [
    "batch_size = 512\n",
    "train_data_url = \"D:\\\\data\"\n",
    "\n",
    "train_datagen = ImageDataGenerator(\n",
    "        rescale=1./255,\n",
    "        horizontal_flip=True,\n",
    "        rotation_range=90,\n",
    "        validation_split=0.1)\n",
    "\n",
    "test_datagen = ImageDataGenerator(rescale=1./255)\n",
    "\n",
    "train_generator = train_datagen.flow_from_directory(\n",
    "        train_data_url,\n",
    "        target_size=(32, 32),\n",
    "        batch_size=batch_size,\n",
    "        class_mode='input',\n",
    "        color_mode='rgb',\n",
    "        classes=None)\n",
    "\n",
    "model.fit(train_generator, epochs=5)"
   ]
  },
  {
   "cell_type": "code",
   "execution_count": 8,
   "metadata": {},
   "outputs": [
    {
     "name": "stdout",
     "output_type": "stream",
     "text": [
      "1485/1485 [==============================] - 243s 164ms/step - loss: 0.2251 - SSIMLoss: 0.2250 - val_loss: 0.1055 - val_SSIMLoss: 0.1054\n"
     ]
    }
   ],
   "source": [
    "model3 = model.fit(train_images, train_images, batch_size=64, epochs=1, validation_split=0.05)"
   ]
  },
  {
   "cell_type": "code",
   "execution_count": 10,
   "metadata": {},
   "outputs": [],
   "source": [
    "model.save(\"E:\\e6998_img_compression\\compression_model.h5\")"
   ]
  },
  {
   "cell_type": "code",
   "execution_count": null,
   "metadata": {},
   "outputs": [],
   "source": [
    "from matplotlib import pyplot as plt\n",
    "\n",
    "img = train_images_[400]\n",
    "img_ = img.numpy().reshape((32,32,3))\n",
    "plt.imshow(img_, interpolation='nearest')\n",
    "print(img_.shape)\n",
    "plt.show()"
   ]
  },
  {
   "cell_type": "code",
   "execution_count": null,
   "metadata": {},
   "outputs": [],
   "source": [
    "# img_pred = test_images[0:10].reshape((10,3,32,32,))\n",
    "full = model.predict(test_images[20:30,:,:,:])"
   ]
  },
  {
   "cell_type": "code",
   "execution_count": null,
   "metadata": {},
   "outputs": [],
   "source": [
    "plt.plot(model3.history[\"val_SSIMLoss\"])"
   ]
  },
  {
   "cell_type": "code",
   "execution_count": null,
   "metadata": {},
   "outputs": [],
   "source": [
    "# img_pred_full= img_pred.reshape((10,32,32,3))\n",
    "\n",
    "plt.figure(figsize=(10,10))\n",
    "for i in range(10):\n",
    "    plt.subplot(5,5,i+1)\n",
    "    plt.xticks([])\n",
    "    plt.yticks([])\n",
    "    plt.grid(False)\n",
    "    plt.imshow(test_images[20:30,:,:,:][i], cmap=plt.cm.binary)\n",
    "    # The CIFAR labels happen to be arrays, \n",
    "    # which is why you need the extra index\n",
    "plt.show()"
   ]
  },
  {
   "cell_type": "code",
   "execution_count": null,
   "metadata": {},
   "outputs": [],
   "source": [
    "full_pred = full.reshape((10,32,32,3))\n",
    "\n",
    "class_names = ['airplane', 'automobile', 'bird', 'cat', 'deer',\n",
    "               'dog', 'frog', 'horse', 'ship', 'truck']\n",
    "\n",
    "plt.figure(figsize=(10,10))\n",
    "for i in range(10):\n",
    "    plt.subplot(5,5,i+1)\n",
    "    plt.xticks([])\n",
    "    plt.yticks([])\n",
    "    plt.grid(False)\n",
    "    plt.imshow(full_pred[i], cmap=plt.cm.binary)\n",
    "    # The CIFAR labels happen to be arrays, \n",
    "    # which is why you need the extra index\n",
    "plt.show()"
   ]
  },
  {
   "cell_type": "markdown",
   "metadata": {},
   "source": [
    "### Loading Data"
   ]
  },
  {
   "cell_type": "code",
   "execution_count": null,
   "metadata": {},
   "outputs": [],
   "source": [
    "data_url = \"D:\\\\data\\\\train_f\""
   ]
  },
  {
   "cell_type": "markdown",
   "metadata": {},
   "source": [
    "class ImageLoader:\n",
    "    \n",
    "    def __init__(self, image_directory):\n",
    "        \n",
    "        self.image_directory = image_directory\n",
    "        self.image_paths = [os.path.abspath(os.path.join(self.image_directory, p)) for p in os.listdir(self.image_directory) if p.endswith(('jpg', 'png'))]\n",
    "        \n",
    "        print(\"There are {} iamges\".format(len(self.image_paths)))\n",
    "        \n",
    "        self.num_images = len(self.image_paths)\n",
    "        self.garbage_counter = 0\n",
    "        self.process_images(self.num_images)\n",
    "        \n",
    "    def process_images(self, num_images):\n",
    "        \n",
    "        self.data = np.array([])\n",
    "        \n",
    "        \n",
    "        for i in range(num_images):\n",
    "            \n",
    "            if i % 10000 == 0:\n",
    "                print(\"Processed image {}\".format(i))\n",
    "            \n",
    "            image_filename = \"image%s.png\" % i\n",
    "            \n",
    "            PIL_image = Image.open(self.image_paths[i]).resize((32, 32), Image.ANTIALIAS)\n",
    "             \n",
    "            image_as_array = np.array(PIL_image)\n",
    "\n",
    "            if image_as_array.shape != (32,32,3):\n",
    "                self.garbage_counter += 1\n",
    "                continue\n",
    "    \n",
    "            self.data = np.append(self.data, image_as_array)\n",
    "\n",
    "loader = ImageLoader(data_url)\n",
    "data = loader.data"
   ]
  },
  {
   "cell_type": "markdown",
   "metadata": {},
   "source": [
    "with open('D:\\\\data\\\\data2.npy', 'wb') as f:\n",
    "    np.save(f, data)"
   ]
  },
  {
   "cell_type": "markdown",
   "metadata": {},
   "source": [
    "### Importing Data"
   ]
  },
  {
   "cell_type": "code",
   "execution_count": 15,
   "metadata": {},
   "outputs": [],
   "source": [
    "import tensorflow as tf\n",
    "from tensorflow.keras.models import load_model\n",
    "\n",
    "compression_model = load_model(\"E:\\e6998_img_compression\\compression_model.h5\", custom_objects={'SSIMLoss': SSIMLoss})"
   ]
  },
  {
   "cell_type": "code",
   "execution_count": 26,
   "metadata": {},
   "outputs": [],
   "source": [
    "image = np.array(Image.open(r'E:\\super resolution\\original_images\\blackberry\\56.jpg').resize((32,32), Image.ANTIALIAS))"
   ]
  },
  {
   "cell_type": "code",
   "execution_count": 27,
   "metadata": {},
   "outputs": [
    {
     "data": {
      "text/plain": [
       "<matplotlib.image.AxesImage at 0x22fdc7ea460>"
      ]
     },
     "execution_count": 27,
     "metadata": {},
     "output_type": "execute_result"
    },
    {
     "data": {
      "image/png": "[encoded data removed]",
      "text/plain": [
       "<Figure size 432x288 with 1 Axes>"
      ]
     },
     "metadata": {
      "needs_background": "light"
     },
     "output_type": "display_data"
    }
   ],
   "source": [
    "plt.imshow(image)"
   ]
  },
  {
   "cell_type": "code",
   "execution_count": 33,
   "metadata": {},
   "outputs": [
    {
     "name": "stderr",
     "output_type": "stream",
     "text": [
      "Clipping input data to the valid range for imshow with RGB data ([0..1] for floats or [0..255] for integers).\n"
     ]
    },
    {
     "data": {
      "text/plain": [
       "<matplotlib.image.AxesImage at 0x22e81b9f850>"
      ]
     },
     "execution_count": 33,
     "metadata": {},
     "output_type": "execute_result"
    },
    {
     "data": {
      "image/png": "[encoded data removed]",
      "text/plain": [
       "<Figure size 432x288 with 1 Axes>"
      ]
     },
     "metadata": {
      "needs_background": "light"
     },
     "output_type": "display_data"
    }
   ],
   "source": [
    "plt.imshow(compression_model.predict(image.reshape(1,32,32,3)).reshape(32,32,3))"
   ]
  },
  {
   "cell_type": "code",
   "execution_count": 38,
   "metadata": {},
   "outputs": [
    {
     "name": "stderr",
     "output_type": "stream",
     "text": [
      "Clipping input data to the valid range for imshow with RGB data ([0..1] for floats or [0..255] for integers).\n"
     ]
    },
    {
     "data": {
      "text/plain": [
       "<matplotlib.image.AxesImage at 0x22e82c20640>"
      ]
     },
     "execution_count": 38,
     "metadata": {},
     "output_type": "execute_result"
    },
    {
     "data": {
      "image/png": "[encoded data removed]",
      "text/plain": [
       "<Figure size 432x288 with 1 Axes>"
      ]
     },
     "metadata": {
      "needs_background": "light"
     },
     "output_type": "display_data"
    }
   ],
   "source": [
    "reshaped_image = image.reshape(1,32,32,3)\n",
    "plt.imshow(compression_model.predict(reshaped_image).reshape(32,32,3))"
   ]
  },
  {
   "cell_type": "code",
   "execution_count": null,
   "metadata": {},
   "outputs": [],
   "source": []
  }
 ],
 "metadata": {
  "environment": {
   "name": "tf2-2-3-gpu.2-3.m59",
   "type": "gcloud",
   "uri": "gcr.io/deeplearning-platform-release/tf2-2-3-gpu.2-3:m59"
  },
  "kernelspec": {
   "display_name": "Python 3",
   "language": "python",
   "name": "python3"
  },
  "language_info": {
   "codemirror_mode": {
    "name": "ipython",
    "version": 3
   },
   "file_extension": ".py",
   "mimetype": "text/x-python",
   "name": "python",
   "nbconvert_exporter": "python",
   "pygments_lexer": "ipython3",
   "version": "3.8.5"
  }
 },
 "nbformat": 4,
 "nbformat_minor": 4
}
