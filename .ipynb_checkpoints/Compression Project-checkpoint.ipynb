{
 "cells": [
  {
   "cell_type": "code",
   "execution_count": 132,
   "metadata": {},
   "outputs": [],
   "source": [
    "import tensorflow as tf\n",
    "import pandas as pd\n",
    "import numpy as np\n",
    "\n",
    "from tensorflow.keras.layers import Conv2D\n",
    "from tensorflow.keras.layers import Layer\n",
    "from tensorflow.keras.layers import Dense\n",
    "from tensorflow.keras import Sequential\n",
    "from tensorflow.keras import Input\n",
    "\n",
    "import matplotlib.pyplot as plt"
   ]
  },
  {
   "cell_type": "code",
   "execution_count": 3,
   "metadata": {},
   "outputs": [
    {
     "name": "stdout",
     "output_type": "stream",
     "text": [
      "Tensorflow version: 2.3.1\n",
      "Is GPU available? [PhysicalDevice(name='/physical_device:GPU:0', device_type='GPU')]\n"
     ]
    }
   ],
   "source": [
    "print(\"Tensorflow version: {}\".format(tf.__version__))\n",
    "print(\"Is GPU available? {}\".format(tf.config.list_physical_devices('GPU')))"
   ]
  },
  {
   "cell_type": "markdown",
   "metadata": {},
   "source": [
    "### Encoding Layer Class"
   ]
  },
  {
   "cell_type": "markdown",
   "metadata": {},
   "source": [
    "This function is to perform the rnn_conv operation that makes up the building block of the encoder and decoder"
   ]
  },
  {
   "cell_type": "code",
   "execution_count": 120,
   "metadata": {},
   "outputs": [],
   "source": [
    "class Linear(Layer):\n",
    "    def __init__(self, units=32, input_dim=32):\n",
    "        super(Linear, self).__init__()\n",
    "        w_init = tf.random_normal_initializer()\n",
    "        self.w = tf.Variable(initial_value=w_init(shape=(input_dim, units), dtype=\"float32\"), trainable=True,)\n",
    "        \n",
    "        b_init = tf.zeros_initializer()\n",
    "        self.b = tf.Variable(\n",
    "            initial_value=b_init(shape=(units,), dtype=\"float32\"), trainable=True\n",
    "        )\n",
    "\n",
    "    def call(self, inputs):\n",
    "        return tf.matmul(inputs, self.w) + self.b"
   ]
  },
  {
   "cell_type": "code",
   "execution_count": 419,
   "metadata": {},
   "outputs": [],
   "source": [
    "class RnnConv(Layer):\n",
    "    \n",
    "    def __init__(self, inputs, hiddens, filters, kernel_size, strides):\n",
    "        \n",
    "        super(RnnConv, self).__init__()\n",
    "        \n",
    "        self.hidden, self.cell = hiddens\n",
    "        print(\"rnn_input shape: {}\".format(inputs.shape))\n",
    "                \n",
    "        self.conv_inputs_layers = Conv2D(filters=4*filters, kernel_size=kernel_size, strides=strides, padding=\"same\")(inputs)\n",
    "        self.conv_hidden_layers = Conv2D(filters=4*filters, kernel_size=kernel_size, padding=\"same\")(self.hidden)\n",
    "        \n",
    "        print(\"conv_inputs_layers shape: {}\".format(self.conv_inputs_layers.shape))\n",
    "        print(\"conv_hidden_layers shape: {}\".format(self.conv_hidden_layers.shape))\n",
    "        \n",
    "        in_gate, f_gate, out_gate, c_gate = tf.split(self.conv_inputs_layers + self.conv_hidden_layers, 4, axis=-1)\n",
    "                \n",
    "        self.in_gate = Dense(64, activation=\"sigmoid\")(in_gate)\n",
    "        self.f_gate = Dense(64, activation=\"sigmoid\")(f_gate)\n",
    "        self.out_gate = Dense(64, activation=\"sigmoid\")(out_gate)\n",
    "        self.c_gate = Dense(64, activation=\"tanh\")(c_gate)\n",
    "        \n",
    "        print(\"in_gate shape: {}\".format(self.in_gate.shape))\n",
    "        print(\"f_gate shape: {}\".format(self.f_gate.shape))\n",
    "        print(\"out_gate shape: {}\".format(self.out_gate.shape))\n",
    "        print(\"c_gate shape: {}\".format(self.c_gate.shape))\n",
    "        print(\"cell size: {}\".format(self.cell.shape))\n",
    "    \n",
    "        self.new_cell = tf.multiply(self.f_gate, self.cell) + tf.multiply(self.in_gate, self.c_gate)\n",
    "        self.new_hidden = tf.multiply(self.out_gate, Dense(1, activation=\"tanh\")(self.new_cell))\n",
    "        \n",
    "    def call(self):\n",
    "        \n",
    "        return self.new_hidden, self.new_cell"
   ]
  },
  {
   "cell_type": "code",
   "execution_count": 420,
   "metadata": {},
   "outputs": [],
   "source": [
    "def padding(x, stride):\n",
    "    if x % stride == 0:\n",
    "        return x // stride\n",
    "    else:\n",
    "        return x // stride + 1"
   ]
  },
  {
   "cell_type": "code",
   "execution_count": 421,
   "metadata": {},
   "outputs": [],
   "source": [
    "data = np.random.normal(size=(128,32,32,3))\n",
    "ENCODER_DIM = 32"
   ]
  },
  {
   "cell_type": "code",
   "execution_count": 424,
   "metadata": {},
   "outputs": [],
   "source": [
    "def init_hiddens(data):\n",
    "\n",
    "    height = padding(padding(data.shape[1], 2),2)\n",
    "    width = padding(padding(data.shape[2], 2),2)\n",
    "        \n",
    "    # height = data.shape[1]\n",
    "    # width = data.shape[2]\n",
    "    \n",
    "    print(\"height: {}\".format(height))\n",
    "    print(\"width: {}\".format(width))\n",
    "    \n",
    "    shape = [data.shape[0]] + [height, width] + [64]\n",
    "    hidden = tf.zeros(shape)\n",
    "    cell = tf.zeros(shape)\n",
    "        \n",
    "    return (hidden, cell)"
   ]
  },
  {
   "cell_type": "code",
   "execution_count": 425,
   "metadata": {},
   "outputs": [
    {
     "name": "stdout",
     "output_type": "stream",
     "text": [
      "height: 8\n",
      "width: 8\n",
      "Hidden shape: (128, 8, 8, 64)\n",
      "Cell shape: (128, 8, 8, 64)\n",
      "WARNING:tensorflow:Layer conv2d_136 is casting an input tensor from dtype float64 to the layer's dtype of float32, which is new behavior in TensorFlow 2.  The layer has dtype float32 because its dtype defaults to floatx.\n",
      "\n",
      "If you intended to run this layer in float32, you can safely ignore this warning. If in doubt, this warning is likely only an issue if you are porting a TensorFlow 1.X model to TensorFlow 2.\n",
      "\n",
      "To change all layers to have dtype float64 by default, call `tf.keras.backend.set_floatx('float64')`. To change just this layer, pass dtype='float64' to the layer constructor. If you are the author of this layer, you can disable autocasting by passing autocast=False to the base Layer constructor.\n",
      "\n",
      "rnn_input shape: (128, 16, 16, 32)\n",
      "conv_inputs_layers shape: (128, 8, 8, 256)\n",
      "conv_hidden_layers shape: (128, 8, 8, 256)\n",
      "in_gate shape: (128, 8, 8, 64)\n",
      "f_gate shape: (128, 8, 8, 64)\n",
      "out_gate shape: (128, 8, 8, 64)\n",
      "c_gate shape: (128, 8, 8, 64)\n",
      "cell size: (128, 8, 8, 64)\n"
     ]
    }
   ],
   "source": [
    "hiddens = init_hiddens(data)\n",
    "\n",
    "print(\"Hidden shape: {}\".format(hiddens[0].shape))\n",
    "print(\"Cell shape: {}\".format(hiddens[1].shape))\n",
    "\n",
    "input_data = Conv2D(filters=32, kernel_size=[3,3], strides=(2,2), padding=\"same\")(data)\n",
    "rnn_conv_ex = RnnConv(input_data, hiddens=hiddens, filters=64,kernel_size=3, strides=2)"
   ]
  },
  {
   "cell_type": "code",
   "execution_count": 319,
   "metadata": {},
   "outputs": [],
   "source": [
    "conv_inputs = np.load(\"TF1_data/conv_inputs_epoch5_step60.npy\")\n",
    "conv_hidden = np.load(\"TF1_data/conv_hidden_epoch5_step60.npy\")\n",
    "cell_state = np.load(\"TF1_data/hiddens1_epoch5_step60.npy\")[1]"
   ]
  },
  {
   "cell_type": "code",
   "execution_count": 340,
   "metadata": {},
   "outputs": [],
   "source": [
    "in_gate, f_gate, out_gate, c_gate = tf.split(conv_hidden + conv_inputs, 4, axis=-1)\n",
    "new_cell = tf.multiply(f_gate, cell_state) + tf.multiply(in_gate, c_gate)"
   ]
  },
  {
   "cell_type": "code",
   "execution_count": null,
   "metadata": {},
   "outputs": [],
   "source": []
  },
  {
   "cell_type": "code",
   "execution_count": null,
   "metadata": {},
   "outputs": [],
   "source": []
  }
 ],
 "metadata": {
  "environment": {
   "name": "tf2-2-3-gpu.2-3.m59",
   "type": "gcloud",
   "uri": "gcr.io/deeplearning-platform-release/tf2-2-3-gpu.2-3:m59"
  },
  "kernelspec": {
   "display_name": "Python 3",
   "language": "python",
   "name": "python3"
  },
  "language_info": {
   "codemirror_mode": {
    "name": "ipython",
    "version": 3
   },
   "file_extension": ".py",
   "mimetype": "text/x-python",
   "name": "python",
   "nbconvert_exporter": "python",
   "pygments_lexer": "ipython3",
   "version": "3.7.8"
  }
 },
 "nbformat": 4,
 "nbformat_minor": 4
}
