{
 "cells": [
  {
   "cell_type": "code",
   "execution_count": 1,
   "metadata": {},
   "outputs": [],
   "source": [
    "import tensorflow as tf\n",
    "\n",
    "from tensorflow.keras import datasets, layers, models\n",
    "import matplotlib.pyplot as plt\n",
    "from rnnconv import RnnConv\n",
    "\n",
    "(train_images, train_labels), (test_images, test_labels) = datasets.cifar10.load_data()\n",
    "\n",
    "# Normalize pixel values to be between 0 and 1\n",
    "train_images, test_images = train_images / 255.0, test_images / 255.0"
   ]
  },
  {
   "cell_type": "code",
   "execution_count": 2,
   "metadata": {},
   "outputs": [],
   "source": [
    "model = tf.keras.Sequential() \n",
    "\n",
    "for i in range(2):\n",
    "\n",
    "    model.add(layers.Conv2D(filters=64, kernel_size=3, input_shape=(3, 32, 32), activation = \"relu\", strides = (2, 2), padding='same', data_format='channels_first'))\n",
    "\n",
    "\n",
    "    model.add(layers.Lambda(lambda x: tf.expand_dims(x,axis=1)))\n",
    "    model.add(layers.ConvLSTM2D(filters=256, kernel_size=3, strides=(2, 2),  activation = \"relu\", padding='same', data_format='channels_first'))\n",
    "\n",
    "    model.add(layers.Lambda(lambda x: tf.expand_dims(x,axis=1)))\n",
    "    model.add(layers.ConvLSTM2D(filters=512, kernel_size=3, strides=(2, 2),  activation = \"relu\", padding='same', data_format='channels_first'))\n",
    "\n",
    "    model.add(layers.Lambda(lambda x: tf.expand_dims(x,axis=1)))\n",
    "    model.add(layers.ConvLSTM2D(filters=512, kernel_size=3, strides=(2, 2),  activation = \"relu\", padding='same', data_format='channels_first'))\n",
    "\n",
    "\n",
    "    model.add(layers.Conv2D(filters=32, kernel_size=1, activation = \"relu\", strides = (1,1), padding='same', data_format='channels_first'))\n",
    "\n",
    "\n",
    "    model.add(layers.Conv2D(filters=512, kernel_size=1, activation = \"relu\", strides = (1,1), padding='same', data_format='channels_first'))\n",
    "\n",
    "    model.add(layers.Lambda(lambda x: tf.expand_dims(x,axis=1)))\n",
    "    model.add(layers.ConvLSTM2D(filters=512, kernel_size=2, strides=(1, 1),  activation = \"relu\", padding='same', data_format='channels_first'))\n",
    "    model.add(layers.Lambda(lambda x:tf.nn.depth_to_space(x,2,data_format='NCHW')))\n",
    "\n",
    "    model.add(layers.Lambda(lambda x: tf.expand_dims(x,axis=1)))\n",
    "    model.add(layers.ConvLSTM2D(filters=512, kernel_size=3, strides=(1, 1),  activation = \"relu\", padding='same', data_format='channels_first'))\n",
    "    model.add(layers.Lambda(lambda x:tf.nn.depth_to_space(x,2,data_format='NCHW')))\n",
    "\n",
    "    model.add(layers.Lambda(lambda x: tf.expand_dims(x,axis=1)))\n",
    "    model.add(layers.ConvLSTM2D(filters=256, kernel_size=3, strides=(1, 1),  activation = \"relu\", padding='same', data_format='channels_first'))\n",
    "    model.add(layers.Lambda(lambda x:tf.nn.depth_to_space(x,2,data_format='NCHW')))\n",
    "\n",
    "    model.add(layers.Lambda(lambda x: tf.expand_dims(x,axis=1)))\n",
    "    model.add(layers.ConvLSTM2D(filters=128, kernel_size=3, strides=(1, 1),  activation = \"relu\", padding='same', data_format='channels_first'))\n",
    "    model.add(layers.Lambda(lambda x:tf.nn.depth_to_space(x,2,data_format='NCHW')))\n",
    "\n",
    "    model.add(layers.Conv2D(filters=3, kernel_size=1, activation = \"relu\", strides = (1,1), padding='same', data_format='channels_first'))"
   ]
  },
  {
   "cell_type": "code",
   "execution_count": 3,
   "metadata": {},
   "outputs": [
    {
     "name": "stdout",
     "output_type": "stream",
     "text": [
      "Model: \"sequential\"\n",
      "_________________________________________________________________\n",
      "Layer (type)                 Output Shape              Param #   \n",
      "=================================================================\n",
      "conv2d (Conv2D)              (None, 64, 16, 16)        1792      \n",
      "_________________________________________________________________\n",
      "lambda (Lambda)              (None, 1, 64, 16, 16)     0         \n",
      "_________________________________________________________________\n",
      "conv_lst_m2d (ConvLSTM2D)    (None, 256, 8, 8)         2950144   \n",
      "_________________________________________________________________\n",
      "lambda_1 (Lambda)            (None, 1, 256, 8, 8)      0         \n",
      "_________________________________________________________________\n",
      "conv_lst_m2d_1 (ConvLSTM2D)  (None, 512, 4, 4)         14157824  \n",
      "_________________________________________________________________\n",
      "lambda_2 (Lambda)            (None, 1, 512, 4, 4)      0         \n",
      "_________________________________________________________________\n",
      "conv_lst_m2d_2 (ConvLSTM2D)  (None, 512, 2, 2)         18876416  \n",
      "_________________________________________________________________\n",
      "conv2d_1 (Conv2D)            (None, 32, 2, 2)          16416     \n",
      "_________________________________________________________________\n",
      "conv2d_2 (Conv2D)            (None, 512, 2, 2)         16896     \n",
      "_________________________________________________________________\n",
      "lambda_3 (Lambda)            (None, 1, 512, 2, 2)      0         \n",
      "_________________________________________________________________\n",
      "conv_lst_m2d_3 (ConvLSTM2D)  (None, 512, 2, 2)         8390656   \n",
      "_________________________________________________________________\n",
      "lambda_4 (Lambda)            (None, 128, 4, 4)         0         \n",
      "_________________________________________________________________\n",
      "lambda_5 (Lambda)            (None, 1, 128, 4, 4)      0         \n",
      "_________________________________________________________________\n",
      "conv_lst_m2d_4 (ConvLSTM2D)  (None, 512, 4, 4)         11798528  \n",
      "_________________________________________________________________\n",
      "lambda_6 (Lambda)            (None, 128, 8, 8)         0         \n",
      "_________________________________________________________________\n",
      "lambda_7 (Lambda)            (None, 1, 128, 8, 8)      0         \n",
      "_________________________________________________________________\n",
      "conv_lst_m2d_5 (ConvLSTM2D)  (None, 256, 8, 8)         3539968   \n",
      "_________________________________________________________________\n",
      "lambda_8 (Lambda)            (None, 64, 16, 16)        0         \n",
      "_________________________________________________________________\n",
      "lambda_9 (Lambda)            (None, 1, 64, 16, 16)     0         \n",
      "_________________________________________________________________\n",
      "conv_lst_m2d_6 (ConvLSTM2D)  (None, 128, 16, 16)       885248    \n",
      "_________________________________________________________________\n",
      "lambda_10 (Lambda)           (None, 32, 32, 32)        0         \n",
      "_________________________________________________________________\n",
      "conv2d_3 (Conv2D)            (None, 3, 32, 32)         99        \n",
      "_________________________________________________________________\n",
      "conv2d_4 (Conv2D)            (None, 64, 16, 16)        1792      \n",
      "_________________________________________________________________\n",
      "lambda_11 (Lambda)           (None, 1, 64, 16, 16)     0         \n",
      "_________________________________________________________________\n",
      "conv_lst_m2d_7 (ConvLSTM2D)  (None, 256, 8, 8)         2950144   \n",
      "_________________________________________________________________\n",
      "lambda_12 (Lambda)           (None, 1, 256, 8, 8)      0         \n",
      "_________________________________________________________________\n",
      "conv_lst_m2d_8 (ConvLSTM2D)  (None, 512, 4, 4)         14157824  \n",
      "_________________________________________________________________\n",
      "lambda_13 (Lambda)           (None, 1, 512, 4, 4)      0         \n",
      "_________________________________________________________________\n",
      "conv_lst_m2d_9 (ConvLSTM2D)  (None, 512, 2, 2)         18876416  \n",
      "_________________________________________________________________\n",
      "conv2d_5 (Conv2D)            (None, 32, 2, 2)          16416     \n",
      "_________________________________________________________________\n",
      "conv2d_6 (Conv2D)            (None, 512, 2, 2)         16896     \n",
      "_________________________________________________________________\n",
      "lambda_14 (Lambda)           (None, 1, 512, 2, 2)      0         \n",
      "_________________________________________________________________\n",
      "conv_lst_m2d_10 (ConvLSTM2D) (None, 512, 2, 2)         8390656   \n",
      "_________________________________________________________________\n",
      "lambda_15 (Lambda)           (None, 128, 4, 4)         0         \n",
      "_________________________________________________________________\n",
      "lambda_16 (Lambda)           (None, 1, 128, 4, 4)      0         \n",
      "_________________________________________________________________\n",
      "conv_lst_m2d_11 (ConvLSTM2D) (None, 512, 4, 4)         11798528  \n",
      "_________________________________________________________________\n",
      "lambda_17 (Lambda)           (None, 128, 8, 8)         0         \n",
      "_________________________________________________________________\n",
      "lambda_18 (Lambda)           (None, 1, 128, 8, 8)      0         \n",
      "_________________________________________________________________\n",
      "conv_lst_m2d_12 (ConvLSTM2D) (None, 256, 8, 8)         3539968   \n",
      "_________________________________________________________________\n",
      "lambda_19 (Lambda)           (None, 64, 16, 16)        0         \n",
      "_________________________________________________________________\n",
      "lambda_20 (Lambda)           (None, 1, 64, 16, 16)     0         \n",
      "_________________________________________________________________\n",
      "conv_lst_m2d_13 (ConvLSTM2D) (None, 128, 16, 16)       885248    \n",
      "_________________________________________________________________\n",
      "lambda_21 (Lambda)           (None, 32, 32, 32)        0         \n",
      "_________________________________________________________________\n",
      "conv2d_7 (Conv2D)            (None, 3, 32, 32)         99        \n",
      "=================================================================\n",
      "Total params: 121,267,974\n",
      "Trainable params: 121,267,974\n",
      "Non-trainable params: 0\n",
      "_________________________________________________________________\n"
     ]
    }
   ],
   "source": [
    "model.compile(optimizer='adam', loss='mse', metrics=['mse','mae'])\n",
    "model.summary()"
   ]
  },
  {
   "cell_type": "code",
   "execution_count": 4,
   "metadata": {},
   "outputs": [
    {
     "name": "stdout",
     "output_type": "stream",
     "text": [
      "Epoch 1/10\n",
      "2/2 [==============================] - 10s 5s/step - loss: 0.2610 - mse: 0.2610 - mae: 0.4503\n",
      "Epoch 2/10\n",
      "2/2 [==============================] - 8s 4s/step - loss: 0.2584 - mse: 0.2584 - mae: 0.4475\n",
      "Epoch 3/10\n",
      "2/2 [==============================] - 8s 4s/step - loss: 0.2557 - mse: 0.2557 - mae: 0.4445\n",
      "Epoch 4/10\n",
      "2/2 [==============================] - 8s 4s/step - loss: 0.2529 - mse: 0.2529 - mae: 0.4413\n",
      "Epoch 5/10\n",
      "2/2 [==============================] - 8s 4s/step - loss: 0.2498 - mse: 0.2498 - mae: 0.4378\n",
      "Epoch 6/10\n",
      "2/2 [==============================] - 8s 4s/step - loss: 0.2464 - mse: 0.2464 - mae: 0.4339\n",
      "Epoch 7/10\n",
      "2/2 [==============================] - 8s 4s/step - loss: 0.2426 - mse: 0.2426 - mae: 0.4296\n",
      "Epoch 8/10\n",
      "2/2 [==============================] - 8s 4s/step - loss: 0.2383 - mse: 0.2383 - mae: 0.4246\n",
      "Epoch 9/10\n",
      "2/2 [==============================] - 8s 4s/step - loss: 0.2332 - mse: 0.2332 - mae: 0.4187\n",
      "Epoch 10/10\n",
      "2/2 [==============================] - 8s 4s/step - loss: 0.2271 - mse: 0.2271 - mae: 0.4116\n"
     ]
    }
   ],
   "source": [
    "train_images_ = tf.convert_to_tensor(train_images.reshape((-1,3,32,32)))\n",
    "model3 = model.fit(train_images_[0:100], train_images_[0:100], batch_size=64, epochs=10)"
   ]
  },
  {
   "cell_type": "code",
   "execution_count": 21,
   "metadata": {},
   "outputs": [
    {
     "name": "stdout",
     "output_type": "stream",
     "text": [
      "(32, 32, 3)\n"
     ]
    },
    {
     "data": {
      "image/png": "[encoded data removed]",
      "text/plain": [
       "<Figure size 432x288 with 1 Axes>"
      ]
     },
     "metadata": {
      "needs_background": "light"
     },
     "output_type": "display_data"
    }
   ],
   "source": [
    "from matplotlib import pyplot as plt\n",
    "\n",
    "img = train_images_[400]\n",
    "img_ = img.numpy().reshape((32,32,3))\n",
    "plt.imshow(img_, interpolation='nearest')\n",
    "print(img_.shape)\n",
    "plt.show()"
   ]
  },
  {
   "cell_type": "code",
   "execution_count": 39,
   "metadata": {},
   "outputs": [],
   "source": [
    "img_pred = test_images[0:10].reshape((10,3,32,32,))\n",
    "full = model.predict(img_pred)"
   ]
  },
  {
   "cell_type": "code",
   "execution_count": 42,
   "metadata": {},
   "outputs": [
    {
     "data": {
      "image/png": "[encoded data removed]",
      "text/plain": [
       "<Figure size 720x720 with 10 Axes>"
      ]
     },
     "metadata": {},
     "output_type": "display_data"
    }
   ],
   "source": [
    "full_pred = full.reshape((10,32,32,3))\n",
    "\n",
    "class_names = ['airplane', 'automobile', 'bird', 'cat', 'deer',\n",
    "               'dog', 'frog', 'horse', 'ship', 'truck']\n",
    "\n",
    "plt.figure(figsize=(10,10))\n",
    "for i in range(10):\n",
    "    plt.subplot(5,5,i+1)\n",
    "    plt.xticks([])\n",
    "    plt.yticks([])\n",
    "    plt.grid(False)\n",
    "    plt.imshow(full_pred[i], cmap=plt.cm.binary)\n",
    "    # The CIFAR labels happen to be arrays, \n",
    "    # which is why you need the extra index\n",
    "    plt.xlabel(class_names[train_labels[i][0]])\n",
    "plt.show()"
   ]
  },
  {
   "cell_type": "code",
   "execution_count": 50,
   "metadata": {},
   "outputs": [
    {
     "data": {
      "text/plain": [
       "array([[[0.03977442, 0.03715859, 0.04382056],\n",
       "        [0.04143263, 0.04402516, 0.04152878],\n",
       "        [0.04469274, 0.04233696, 0.04448564],\n",
       "        ...,\n",
       "        [0.04971454, 0.05158265, 0.04900876],\n",
       "        [0.05076823, 0.04908484, 0.04991831],\n",
       "        [0.04764257, 0.04308359, 0.04265699]],\n",
       "\n",
       "       [[0.04316856, 0.02919795, 0.05019284],\n",
       "        [0.03229294, 0.05063438, 0.03247417],\n",
       "        [0.05182819, 0.03307391, 0.05155726],\n",
       "        ...,\n",
       "        [0.03385922, 0.05223912, 0.03342899],\n",
       "        [0.05222492, 0.03347666, 0.05050237],\n",
       "        [0.03260416, 0.04419956, 0.02993605]],\n",
       "\n",
       "       [[0.04531387, 0.04179687, 0.05171309],\n",
       "        [0.04960024, 0.05271434, 0.04980839],\n",
       "        [0.05367026, 0.05167744, 0.05370404],\n",
       "        ...,\n",
       "        [0.05109346, 0.05425617, 0.05043093],\n",
       "        [0.05338173, 0.05022305, 0.05202623],\n",
       "        [0.04868109, 0.04440637, 0.04294545]],\n",
       "\n",
       "       ...,\n",
       "\n",
       "       [[0.05270706, 0.05059877, 0.06209105],\n",
       "        [0.06006485, 0.06346424, 0.06110201],\n",
       "        [0.06482022, 0.0628555 , 0.06491367],\n",
       "        ...,\n",
       "        [0.06385262, 0.06465703, 0.06351276],\n",
       "        [0.06356293, 0.06259099, 0.06183071],\n",
       "        [0.06081465, 0.05182452, 0.05194826]],\n",
       "\n",
       "       [[0.05207828, 0.05248915, 0.06114084],\n",
       "        [0.06217027, 0.06227189, 0.06298669],\n",
       "        [0.0636591 , 0.06479513, 0.06352988],\n",
       "        ...,\n",
       "        [0.0630078 , 0.06269541, 0.06291091],\n",
       "        [0.06201758, 0.06188786, 0.0604518 ],\n",
       "        [0.06061254, 0.05199207, 0.05156481]],\n",
       "\n",
       "       [[0.05141894, 0.05007694, 0.06014973],\n",
       "        [0.05878228, 0.06086547, 0.05966071],\n",
       "        [0.06232331, 0.06103244, 0.06195891],\n",
       "        ...,\n",
       "        [0.05120476, 0.05293465, 0.0509721 ],\n",
       "        [0.05247948, 0.05064739, 0.05165399],\n",
       "        [0.04978732, 0.04590975, 0.04483491]]], dtype=float32)"
      ]
     },
     "execution_count": 50,
     "metadata": {},
     "output_type": "execute_result"
    }
   ],
   "source": [
    "full_pred[0]"
   ]
  },
  {
   "cell_type": "code",
   "execution_count": null,
   "metadata": {},
   "outputs": [],
   "source": []
  }
 ],
 "metadata": {
  "environment": {
   "name": "tf2-2-3-gpu.2-3.m59",
   "type": "gcloud",
   "uri": "gcr.io/deeplearning-platform-release/tf2-2-3-gpu.2-3:m59"
  },
  "kernelspec": {
   "display_name": "Python 3",
   "language": "python",
   "name": "python3"
  },
  "language_info": {
   "codemirror_mode": {
    "name": "ipython",
    "version": 3
   },
   "file_extension": ".py",
   "mimetype": "text/x-python",
   "name": "python",
   "nbconvert_exporter": "python",
   "pygments_lexer": "ipython3",
   "version": "3.7.8"
  }
 },
 "nbformat": 4,
 "nbformat_minor": 4
}
