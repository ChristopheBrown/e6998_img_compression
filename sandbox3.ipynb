{
 "cells": [
  {
   "cell_type": "code",
   "execution_count": 1,
   "metadata": {},
   "outputs": [
    {
     "name": "stdout",
     "output_type": "stream",
     "text": [
      "[PhysicalDevice(name='/physical_device:GPU:0', device_type='GPU')]\n"
     ]
    }
   ],
   "source": [
    "import os \n",
    "import tensorflow as tf\n",
    "import numpy as np\n",
    "import pandas as pd\n",
    "from tensorflow.keras import datasets, layers, models\n",
    "from tensorflow.keras.callbacks import LearningRateScheduler\n",
    "from tensorflow.keras.layers import LeakyReLU\n",
    "import tensorflow_datasets as tdfs\n",
    "import matplotlib.pyplot as plt\n",
    "\n",
    "print(tf.config.list_physical_devices(\"GPU\"))"
   ]
  },
  {
   "cell_type": "code",
   "execution_count": 2,
   "metadata": {},
   "outputs": [
    {
     "data": {
      "text/plain": [
       "(200000, 32, 32, 3)"
      ]
     },
     "execution_count": 2,
     "metadata": {},
     "output_type": "execute_result"
    }
   ],
   "source": [
    "(train_images, train_labels), (test_images, test_labels) = datasets.cifar10.load_data()\n",
    "(train_images2, train_labels2), (test_images2, test_labels2) = datasets.cifar100.load_data()\n",
    "\n",
    "# Normalize pixel values to be between 0 and 1\n",
    "train_images, test_images = train_images / 255.0, test_images / 255.0\n",
    "train_images2, test_iamges2 = train_images2 / 255.0, test_images2 / 255.0\n",
    "\n",
    "\n",
    "train_images = np.concatenate((train_images, train_images2) ,axis=0)\n",
    "test_images = np.concatenate((test_images, test_images2), axis=0)\n",
    "\n",
    "train_labels = np.concatenate((train_labels, train_labels2), axis=0)# Data Augmentation\n",
    "\n",
    "rot90 = np.rot90(train_images,axes=(1,2))\n",
    "rot180 = np.rot90(train_images,k=2,axes=(1,2))\n",
    "rot270 = np.rot90(train_images,k=3,axes=(1,2))\n",
    "\n",
    "train_images_pro = np.concatenate((train_images, rot90) ,axis=0)\n",
    "train_images_pro.shape\n",
    "\n",
    "# train_images_pro_max = np.concatenate((train_images_pro, rot180, rot270) ,axis=0)\n",
    "# train_images_pro.shape"
   ]
  },
  {
   "cell_type": "code",
   "execution_count": 3,
   "metadata": {},
   "outputs": [],
   "source": [
    "def residual_loss(y_true, y_pred):\n",
    "    B = batch_size\n",
    "    s = B * H * W * C\n",
    "    n = 1 # corresponds to iterations of the network\n",
    "    beta = 1 / (s * n)\n",
    "    \n",
    "    summation = tf.math.reduce_sum(tf.math.abs(tf.math.subtract(y_true, y_pred)), [0,1,2,3])\n",
    "    return tf.math.square(beta * summation)\n",
    "\n",
    "def SSIMLoss(y_true, y_pred):\n",
    "    return tf.math.square(1 - tf.reduce_mean(tf.image.ssim(y_true, y_pred, 2.0)))\n",
    "\n",
    "def PSNRLoss(y_true, y_pred,max_val=1.0):\n",
    "    return tf.math.square(tf.image.psnr(y_true, y_pred, max_val=max_val))\n",
    "\n",
    "def SSIM_res_loss(y_true, y_pred):\n",
    "    return SSIMLoss(y_true, y_pred) + residual_loss(y_true, y_pred) + PSNRLoss(y_true, y_pred)\n",
    "\n",
    "def test_model(model, test_images, indexes=np.arange(5)):\n",
    "    img_preds = model.predict(test_images[indexes])\n",
    "    \n",
    "    plt.figure(figsize=(10,10))\n",
    "    for i in indexes:\n",
    "        plt.subplot(5,5,i+1)\n",
    "        plt.xticks([])\n",
    "        plt.yticks([])\n",
    "        plt.grid(False)\n",
    "        plt.imshow(test_images[i], cmap=plt.cm.binary)\n",
    "    plt.show()\n",
    "\n",
    "    plt.figure(figsize=(10,10))\n",
    "    for i in indexes:\n",
    "        plt.subplot(5,5,i+1)\n",
    "        plt.xticks([])\n",
    "        plt.yticks([])\n",
    "        plt.grid(False)\n",
    "        plt.imshow(img_preds[i], cmap=plt.cm.binary)\n",
    "    plt.show()\n",
    "    \n",
    "def plot_metric(history, metric='val_SSIMLoss'):\n",
    "    import matplotlib.pyplot as plt\n",
    "    plt.plot(history.history[metric])\n",
    "\n",
    "def save_model(model, path):\n",
    "    model.save(path)\n",
    "    print(f'Model saved to: {path}.')\n",
    "    \n",
    "def load_model(path, custom_objects):\n",
    "    '''\n",
    "    path is the directory containing a \"saved_model.pb\" - E.g. path=models/new_model\"\n",
    "    Custom objects must be any user-defined loss functions. E.g. {'SSIMLoss': SSIMLoss, 'PSNRLoss': PSNRLoss, 'residual_loss': residual_loss}\n",
    "    '''\n",
    "    return tf.keras.models.load_model(path, custom_objects=custom_objects)\n",
    "\n",
    "def save_history(history, path, identifier=''):\n",
    "\n",
    "    # convert the history.history dict to a pandas DataFrame:     \n",
    "    hist_df = pd.DataFrame(history.history) \n",
    "\n",
    "    # save to csv: \n",
    "    hist_csv_file = f'{path}/history_{identifier}.csv'\n",
    "    with open(hist_csv_file, mode='w') as f:\n",
    "        hist_df.to_csv(f)"
   ]
  },
  {
   "cell_type": "code",
   "execution_count": 4,
   "metadata": {},
   "outputs": [],
   "source": [
    "def get_model(iterations):\n",
    "    \n",
    "    model = tf.keras.Sequential() \n",
    "\n",
    "    for i in range(iterations):\n",
    "\n",
    "        model.add(layers.Conv2D(filters=64, kernel_size=3, input_shape=(32, 32, 3), strides = (2, 2), padding='same', data_format='channels_last'))\n",
    "        model.add(LeakyReLU(alpha=0.01))\n",
    "\n",
    "        model.add(layers.Lambda(lambda x: tf.expand_dims(x,axis=1)))\n",
    "        model.add(layers.ConvLSTM2D(filters=256, kernel_size=3, strides=(2, 2),   padding='same', data_format='channels_last'))\n",
    "        model.add(LeakyReLU(alpha=0.01))\n",
    "\n",
    "        model.add(layers.Lambda(lambda x: tf.expand_dims(x,axis=1)))\n",
    "        model.add(layers.ConvLSTM2D(filters=512, kernel_size=3, strides=(2, 2),   padding='same', data_format='channels_last'))\n",
    "        model.add(LeakyReLU(alpha=0.01))\n",
    "\n",
    "        model.add(layers.Lambda(lambda x: tf.expand_dims(x,axis=1)))\n",
    "        model.add(layers.ConvLSTM2D(filters=512, kernel_size=3, strides=(2, 2),   padding='same', data_format='channels_last'))\n",
    "        model.add(LeakyReLU(alpha=0.01))\n",
    "\n",
    "        model.add(layers.Conv2D(filters=32, kernel_size=1,  strides = (1,1), padding='same', data_format='channels_last'))\n",
    "        model.add(LeakyReLU(alpha=0.01))\n",
    "\n",
    "        model.add(layers.Conv2D(filters=512, kernel_size=1,  strides = (1,1), padding='same', data_format='channels_last'))\n",
    "        model.add(LeakyReLU(alpha=0.01))\n",
    "\n",
    "        model.add(layers.Lambda(lambda x: tf.expand_dims(x,axis=1)))\n",
    "        model.add(layers.ConvLSTM2D(filters=512, kernel_size=2, strides=(1, 1), padding='same', data_format='channels_last'))\n",
    "        model.add(LeakyReLU(alpha=0.01))\n",
    "        model.add(layers.Lambda(lambda x:tf.nn.depth_to_space(x,2,data_format='NHWC')))\n",
    "\n",
    "        model.add(layers.Lambda(lambda x: tf.expand_dims(x,axis=1)))\n",
    "        model.add(layers.ConvLSTM2D(filters=512, kernel_size=3, strides=(1, 1), padding='same', data_format='channels_last'))\n",
    "        model.add(LeakyReLU(alpha=0.01))\n",
    "        model.add(layers.Lambda(lambda x:tf.nn.depth_to_space(x,2,data_format='NHWC')))\n",
    "\n",
    "\n",
    "        model.add(layers.Lambda(lambda x: tf.expand_dims(x,axis=1)))\n",
    "        model.add(layers.ConvLSTM2D(filters=256, kernel_size=3, strides=(1, 1), padding='same', data_format='channels_last'))\n",
    "        model.add(LeakyReLU(alpha=0.01))\n",
    "        model.add(layers.Lambda(lambda x:tf.nn.depth_to_space(x,2,data_format='NHWC')))\n",
    "\n",
    "        model.add(layers.Lambda(lambda x: tf.expand_dims(x,axis=1)))\n",
    "        model.add(layers.ConvLSTM2D(filters=128, kernel_size=3, strides=(1, 1), padding='same', data_format='channels_last'))\n",
    "        model.add(LeakyReLU(alpha=0.01))\n",
    "        model.add(layers.Lambda(lambda x:tf.nn.depth_to_space(x,2,data_format='NHWC')))\n",
    "\n",
    "        model.add(layers.Conv2D(filters=3, kernel_size=1, strides = (1,1), padding='same', data_format='channels_last'))\n",
    "        model.add(LeakyReLU(alpha=0.1))\n",
    "        \n",
    "    opt = tf.keras.optimizers.Adam(learning_rate=initial_learning_rate, \n",
    "                                   beta_1=0.9, beta_2=0.999, \n",
    "                                   epsilon=1e-06, amsgrad=True)\n",
    "    \n",
    "    model.compile(optimizer=opt, \n",
    "                  loss=SSIMLoss, \n",
    "                  metrics=[SSIMLoss, PSNRLoss, residual_loss, \"mae\", \"acc\"])\n",
    "        \n",
    "    return model"
   ]
  },
  {
   "cell_type": "code",
   "execution_count": 5,
   "metadata": {},
   "outputs": [],
   "source": [
    "epochs=10\n",
    "iterations = 1\n",
    "batch_size = 512\n",
    "H = train_images.shape[1]\n",
    "W = train_images.shape[2]\n",
    "C = train_images.shape[3]\n",
    "initial_learning_rate = 0.01\n",
    "validation_split=0.05\n",
    "\n",
    "model = get_model(iterations=1)\n",
    "# model.summary()"
   ]
  },
  {
   "cell_type": "code",
   "execution_count": 6,
   "metadata": {},
   "outputs": [
    {
     "name": "stdout",
     "output_type": "stream",
     "text": [
      "Epoch 1/10\n",
      "186/186 [==============================] - 155s 834ms/step - loss: 0.4268 - SSIMLoss: 0.4265 - PSNRLoss: 180.0288 - residual_loss: 0.0411 - mae: 0.1958 - acc: 0.4856 - val_loss: 0.3058 - val_SSIMLoss: 0.3060 - val_PSNRLoss: 194.9975 - val_residual_loss: 0.0273 - val_mae: 0.1689 - val_acc: 0.5151\n",
      "Epoch 2/10\n",
      "186/186 [==============================] - 155s 836ms/step - loss: 0.2186 - SSIMLoss: 0.2185 - PSNRLoss: 245.8459 - residual_loss: 0.0185 - mae: 0.1361 - acc: 0.4935 - val_loss: 0.1704 - val_SSIMLoss: 0.1706 - val_PSNRLoss: 258.8814 - val_residual_loss: 0.0159 - val_mae: 0.1287 - val_acc: 0.4815\n",
      "Epoch 3/10\n",
      "139/186 [=====================>........] - ETA: 38s - loss: 0.1449 - SSIMLoss: 0.1449 - PSNRLoss: 272.2214 - residual_loss: 0.0150 - mae: 0.1226 - acc: 0.4672\n",
      "Epoch 00003: saving model to weights/cp-0003.ckpt\n",
      "186/186 [==============================] - 162s 869ms/step - loss: 0.1409 - SSIMLoss: 0.1408 - PSNRLoss: 273.3990 - residual_loss: 0.0149 - mae: 0.1221 - acc: 0.4659 - val_loss: 0.1242 - val_SSIMLoss: 0.1243 - val_PSNRLoss: 274.2948 - val_residual_loss: 0.0143 - val_mae: 0.1221 - val_acc: 0.4691\n",
      "Epoch 4/10\n",
      "186/186 [==============================] - 157s 842ms/step - loss: 0.1150 - SSIMLoss: 0.1149 - PSNRLoss: 285.3861 - residual_loss: 0.0136 - mae: 0.1168 - acc: 0.4571 - val_loss: 0.1053 - val_SSIMLoss: 0.1054 - val_PSNRLoss: 284.3419 - val_residual_loss: 0.0134 - val_mae: 0.1181 - val_acc: 0.4609\n",
      "Epoch 5/10\n",
      "186/186 [==============================] - 157s 842ms/step - loss: 0.0963 - SSIMLoss: 0.0963 - PSNRLoss: 296.6020 - residual_loss: 0.0125 - mae: 0.1121 - acc: 0.4578 - val_loss: 0.0924 - val_SSIMLoss: 0.0926 - val_PSNRLoss: 288.8763 - val_residual_loss: 0.0128 - val_mae: 0.1156 - val_acc: 0.4756\n",
      "Epoch 6/10\n",
      " 93/186 [==============>...............] - ETA: 1:17 - loss: 0.0880 - SSIMLoss: 0.0880 - PSNRLoss: 300.6173 - residual_loss: 0.0122 - mae: 0.1106 - acc: 0.4619\n",
      "Epoch 00006: saving model to weights/cp-0006.ckpt\n",
      "186/186 [==============================] - 162s 871ms/step - loss: 0.0831 - SSIMLoss: 0.0830 - PSNRLoss: 304.3117 - residual_loss: 0.0119 - mae: 0.1091 - acc: 0.4611 - val_loss: 0.0763 - val_SSIMLoss: 0.0764 - val_PSNRLoss: 302.3302 - val_residual_loss: 0.0117 - val_mae: 0.1105 - val_acc: 0.4687\n",
      "Epoch 7/10\n",
      "186/186 [==============================] - 156s 841ms/step - loss: 0.0718 - SSIMLoss: 0.0719 - PSNRLoss: 311.9037 - residual_loss: 0.0112 - mae: 0.1062 - acc: 0.4670 - val_loss: 0.0812 - val_SSIMLoss: 0.0813 - val_PSNRLoss: 291.7943 - val_residual_loss: 0.0126 - val_mae: 0.1145 - val_acc: 0.4800\n",
      "Epoch 8/10\n",
      "186/186 [==============================] - 157s 842ms/step - loss: 0.0659 - SSIMLoss: 0.0659 - PSNRLoss: 319.1878 - residual_loss: 0.0107 - mae: 0.1034 - acc: 0.4744 - val_loss: 0.0640 - val_SSIMLoss: 0.0641 - val_PSNRLoss: 314.5920 - val_residual_loss: 0.0107 - val_mae: 0.1058 - val_acc: 0.4889\n",
      "Epoch 9/10\n",
      " 47/186 [======>.......................] - ETA: 1:54 - loss: 0.0605 - SSIMLoss: 0.0605 - PSNRLoss: 323.9345 - residual_loss: 0.0103 - mae: 0.1015 - acc: 0.4808\n",
      "Epoch 00009: saving model to weights/cp-0009.ckpt\n",
      "186/186 [==============================] - 162s 870ms/step - loss: 0.0601 - SSIMLoss: 0.0601 - PSNRLoss: 325.4254 - residual_loss: 0.0101 - mae: 0.1009 - acc: 0.4915 - val_loss: 0.0613 - val_SSIMLoss: 0.0615 - val_PSNRLoss: 316.8981 - val_residual_loss: 0.0105 - val_mae: 0.1044 - val_acc: 0.4972\n",
      "Epoch 10/10\n",
      "186/186 [==============================] - 157s 842ms/step - loss: 0.0569 - SSIMLoss: 0.0568 - PSNRLoss: 332.3646 - residual_loss: 0.0096 - mae: 0.0983 - acc: 0.5295 - val_loss: 0.0564 - val_SSIMLoss: 0.0565 - val_PSNRLoss: 331.7032 - val_residual_loss: 0.0093 - val_mae: 0.0986 - val_acc: 0.5701\n"
     ]
    }
   ],
   "source": [
    "# Include the epoch in the file name (uses `str.format`)\n",
    "checkpoint_path = \"weights/cp-{epoch:04d}.ckpt\"\n",
    "checkpoint_dir = os.path.dirname(checkpoint_path)\n",
    "\n",
    "# Create a callback that saves the model's weights every 5 epochs\n",
    "cp_callback = tf.keras.callbacks.ModelCheckpoint(\n",
    "    filepath=checkpoint_path, \n",
    "    verbose=1, \n",
    "    save_weights_only=True,\n",
    "    save_freq=1*batch_size)\n",
    "\n",
    "decay = initial_learning_rate / epochs\n",
    "def lr_time_based_decay(epoch, lr):\n",
    "    return lr * 1 / (1 + decay * epoch)\n",
    "\n",
    "\n",
    "model_history = model.fit(train_images, train_images, \n",
    "                          batch_size=batch_size, \n",
    "                          epochs=epochs, \n",
    "                          validation_split=validation_split, \n",
    "                          callbacks=[cp_callback])\n",
    "\n",
    "\n",
    "\n",
    "# # Save the weights using the `checkpoint_path` format\n",
    "# model.save_weights(checkpoint_path.format(epoch=0))\n",
    "\n"
   ]
  },
  {
   "cell_type": "code",
   "execution_count": 7,
   "metadata": {},
   "outputs": [
    {
     "ename": "NameError",
     "evalue": "name 'loaded_model' is not defined",
     "output_type": "error",
     "traceback": [
      "\u001b[0;31m---------------------------------------------------------------------------\u001b[0m",
      "\u001b[0;31mNameError\u001b[0m                                 Traceback (most recent call last)",
      "\u001b[0;32m<ipython-input-7-80d019acd908>\u001b[0m in \u001b[0;36m<module>\u001b[0;34m\u001b[0m\n\u001b[0;32m----> 1\u001b[0;31m \u001b[0mtest_model\u001b[0m\u001b[0;34m(\u001b[0m\u001b[0mloaded_model\u001b[0m\u001b[0;34m,\u001b[0m \u001b[0mtest_images\u001b[0m\u001b[0;34m)\u001b[0m\u001b[0;34m\u001b[0m\u001b[0;34m\u001b[0m\u001b[0m\n\u001b[0m",
      "\u001b[0;31mNameError\u001b[0m: name 'loaded_model' is not defined"
     ]
    }
   ],
   "source": [
    "test_model(loaded_model, test_images)"
   ]
  },
  {
   "cell_type": "code",
   "execution_count": 20,
   "metadata": {},
   "outputs": [
    {
     "name": "stdout",
     "output_type": "stream",
     "text": [
      "INFO:tensorflow:Assets written to: ssim_resid_psnr/models/assets\n",
      "Model saved to: ssim_resid_psnr/models.\n"
     ]
    }
   ],
   "source": [
    "path = 'ssim_resid_psnr/models'\n",
    "save_model(model, path)"
   ]
  },
  {
   "cell_type": "code",
   "execution_count": 8,
   "metadata": {},
   "outputs": [],
   "source": [
    "custom_objects = {'SSIMLoss': SSIMLoss, 'PSNRLoss': PSNRLoss, 'residual_loss': residual_loss, 'SSIM_res_loss': SSIM_res_loss}\n",
    "loaded_model = load_model(path, custom_objects)"
   ]
  },
  {
   "cell_type": "code",
   "execution_count": 22,
   "metadata": {},
   "outputs": [],
   "source": [
    "save_history(model_history, path='ssim_resid_psnr/history', identifier='000')"
   ]
  },
  {
   "cell_type": "code",
   "execution_count": 8,
   "metadata": {},
   "outputs": [
    {
     "data": {
      "image/png": "[encoded data removed]",
      "text/plain": [
       "<Figure size 432x288 with 1 Axes>"
      ]
     },
     "metadata": {
      "needs_background": "light"
     },
     "output_type": "display_data"
    }
   ],
   "source": [
    "plot_metric(model_history, 'SSIMLoss')"
   ]
  },
  {
   "cell_type": "code",
   "execution_count": 9,
   "metadata": {},
   "outputs": [
    {
     "data": {
      "image/png": "[encoded data removed]",
      "text/plain": [
       "<Figure size 432x288 with 1 Axes>"
      ]
     },
     "metadata": {
      "needs_background": "light"
     },
     "output_type": "display_data"
    }
   ],
   "source": [
    "plot_metric(model_history, 'residual_loss')"
   ]
  },
  {
   "cell_type": "code",
   "execution_count": 10,
   "metadata": {},
   "outputs": [
    {
     "data": {
      "image/png": "[encoded data removed]",
      "text/plain": [
       "<Figure size 432x288 with 1 Axes>"
      ]
     },
     "metadata": {
      "needs_background": "light"
     },
     "output_type": "display_data"
    }
   ],
   "source": [
    "plot_metric(model_history, 'PSNRLoss')"
   ]
  },
  {
   "cell_type": "code",
   "execution_count": 19,
   "metadata": {},
   "outputs": [
    {
     "name": "stderr",
     "output_type": "stream",
     "text": [
      "Clipping input data to the valid range for imshow with RGB data ([0..1] for floats or [0..255] for integers).\n"
     ]
    },
    {
     "data": {
      "text/plain": [
       "<matplotlib.image.AxesImage at 0x7f08a8572e10>"
      ]
     },
     "execution_count": 19,
     "metadata": {},
     "output_type": "execute_result"
    },
    {
     "data": {
      "image/png": "[encoded data removed]",
      "text/plain": [
       "<Figure size 432x288 with 1 Axes>"
      ]
     },
     "metadata": {
      "needs_background": "light"
     },
     "output_type": "display_data"
    }
   ],
   "source": [
    "img_preds2 = model.predict(test_images[0:1])\n",
    "plt.imshow(img_preds2[])"
   ]
  },
  {
   "cell_type": "code",
   "execution_count": null,
   "metadata": {},
   "outputs": [],
   "source": []
  }
 ],
 "metadata": {
  "environment": {
   "name": "tf2-2-3-gpu.2-3.m59",
   "type": "gcloud",
   "uri": "gcr.io/deeplearning-platform-release/tf2-2-3-gpu.2-3:m59"
  },
  "kernelspec": {
   "display_name": "Python 3",
   "language": "python",
   "name": "python3"
  },
  "language_info": {
   "codemirror_mode": {
    "name": "ipython",
    "version": 3
   },
   "file_extension": ".py",
   "mimetype": "text/x-python",
   "name": "python",
   "nbconvert_exporter": "python",
   "pygments_lexer": "ipython3",
   "version": "3.7.8"
  }
 },
 "nbformat": 4,
 "nbformat_minor": 4
}
